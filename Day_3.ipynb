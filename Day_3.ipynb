{
  "nbformat": 4,
  "nbformat_minor": 0,
  "metadata": {
    "colab": {
      "name": "Day 3",
      "provenance": [],
      "collapsed_sections": [],
      "authorship_tag": "ABX9TyNN0gSvjMnSzTelMGX7z8Ms",
      "include_colab_link": true
    },
    "kernelspec": {
      "name": "python3",
      "display_name": "Python 3"
    }
  },
  "cells": [
    {
      "cell_type": "markdown",
      "metadata": {
        "id": "view-in-github",
        "colab_type": "text"
      },
      "source": [
        "<a href=\"https://colab.research.google.com/github/MohammedWasi/DataScience-Essentials/blob/main/Day_3.ipynb\" target=\"_parent\"><img src=\"https://colab.research.google.com/assets/colab-badge.svg\" alt=\"Open In Colab\"/></a>"
      ]
    },
    {
      "cell_type": "markdown",
      "metadata": {
        "id": "xAzz7iknaxYS"
      },
      "source": [
        "Questions 1:\n",
        "Create a numpy array starting from 2 till 50 with a stepsize of 3.\n"
      ]
    },
    {
      "cell_type": "code",
      "metadata": {
        "id": "qOMVAADobJet",
        "outputId": "ae7aebd8-469f-4c6a-9ba6-eed270545f41",
        "colab": {
          "base_uri": "https://localhost:8080/"
        }
      },
      "source": [
        "import numpy as np\n",
        "\n",
        "arr = np.arange(2,51,3)\n",
        "print(arr)"
      ],
      "execution_count": 1,
      "outputs": [
        {
          "output_type": "stream",
          "text": [
            "[ 2  5  8 11 14 17 20 23 26 29 32 35 38 41 44 47 50]\n"
          ],
          "name": "stdout"
        }
      ]
    },
    {
      "cell_type": "markdown",
      "metadata": {
        "id": "mTwXcCLlay4Q"
      },
      "source": [
        "Questions 2:\n",
        "Accept two lists of 5 elements each from the user.\n",
        "Convert them to numpy arrays. Concatenate these arrays and print it. Also sort these arrays and print it.\n"
      ]
    },
    {
      "cell_type": "code",
      "metadata": {
        "id": "HG4vuhd8dpu5",
        "outputId": "9ae2ac87-bf6b-4850-aabc-fd68582b7f2b",
        "colab": {
          "base_uri": "https://localhost:8080/"
        }
      },
      "source": [
        "list1=[]\n",
        "list2=[]\n",
        "\n",
        "for i in range(5):\n",
        "  n = int(input(\"list 1 values\"))\n",
        "  list1.append(n)\n",
        "\n",
        "for j in range(5):\n",
        "  m = int(input(\"list 2 values\"))\n",
        "  list2.append(m)  \n"
      ],
      "execution_count": 2,
      "outputs": [
        {
          "output_type": "stream",
          "text": [
            "list 1 values2\n",
            "list 1 values3\n",
            "list 1 values4\n",
            "list 1 values5\n",
            "list 1 values6\n",
            "list 2 values1\n",
            "list 2 values7\n",
            "list 2 values8\n",
            "list 2 values5\n",
            "list 2 values9\n"
          ],
          "name": "stdout"
        }
      ]
    },
    {
      "cell_type": "code",
      "metadata": {
        "id": "VvKltSLjecHB",
        "outputId": "25e877b5-b4ea-4252-9dc3-698950cc62de",
        "colab": {
          "base_uri": "https://localhost:8080/"
        }
      },
      "source": [
        "arr1 = np.array(list1)\n",
        "arr2 = np.array(list2)\n",
        "\n",
        "concat = np.concatenate((arr1,arr2))\n",
        "print(concat)\n",
        "sort = np.sort(concat)\n",
        "print(sort)"
      ],
      "execution_count": 4,
      "outputs": [
        {
          "output_type": "stream",
          "text": [
            "[2 3 4 5 6 1 7 8 5 9]\n",
            "[1 2 3 4 5 5 6 7 8 9]\n"
          ],
          "name": "stdout"
        }
      ]
    },
    {
      "cell_type": "markdown",
      "metadata": {
        "id": "FpQ-TLjwa5Wx"
      },
      "source": [
        "Questions 3:\n",
        "Write a code snippet to find the dimensions of a ndarray and its size.\n"
      ]
    },
    {
      "cell_type": "code",
      "metadata": {
        "id": "DmJJr4a6fUpe",
        "outputId": "43a6cfec-927f-4d54-aad4-b69d1b01ff63",
        "colab": {
          "base_uri": "https://localhost:8080/"
        }
      },
      "source": [
        "import numpy as np\n",
        "\n",
        "arr3 = np.array([[1, 4, 7], [3, 6, 9], [1, 4, 7], [3, 6, 9]])\n",
        "print(\"calculating Dimensions of a nd array is :\", arr3.ndim)\n",
        "\n",
        "print(\"Size of an array is :\", arr3.size)"
      ],
      "execution_count": 5,
      "outputs": [
        {
          "output_type": "stream",
          "text": [
            "calculating Dimensions of a nd array is : 2\n",
            "Size of an array is : 12\n"
          ],
          "name": "stdout"
        }
      ]
    },
    {
      "cell_type": "markdown",
      "metadata": {
        "id": "ezfzUR_fa7jw"
      },
      "source": [
        "Questions 4:\n",
        "How to convert a 1D array into a 2D array? Demonstrate with the help of a code snippet\n",
        "Hint: np.newaxis, np.expand_dims"
      ]
    },
    {
      "cell_type": "code",
      "metadata": {
        "id": "KtQplJ3zftrs",
        "outputId": "47d5b6bf-001f-4ba1-b93d-74ceb620fb26",
        "colab": {
          "base_uri": "https://localhost:8080/"
        }
      },
      "source": [
        "import numpy as np\n",
        "\n",
        "arr = np.arange(int(input()))\n",
        "print(\" 1D array:\", arr.shape)\n",
        "\n",
        "two_d_array_row = arr[np.newaxis]\n",
        "print(\" 2D array for row is :\", two_d_array_row.shape)\n",
        "\n",
        "two_d_array_col = arr[:, np.newaxis]\n",
        "print(\" 2D array for column is :\", two_d_array_col.shape)"
      ],
      "execution_count": 9,
      "outputs": [
        {
          "output_type": "stream",
          "text": [
            "10\n",
            " 1D array: (10,)\n",
            " 2D array for row is : (1, 10)\n",
            " 2D array for column is : (10, 1)\n"
          ],
          "name": "stdout"
        }
      ]
    },
    {
      "cell_type": "markdown",
      "metadata": {
        "id": "of_HukVma9N3"
      },
      "source": [
        "Questions 5:\n",
        "Consider two square numpy arrays. Stack them vertically and horizontally.\n",
        "Hint: Use vstack(), hstack()\n"
      ]
    },
    {
      "cell_type": "code",
      "metadata": {
        "id": "FYcK5vBoghxM",
        "outputId": "d1e5ccad-b5bf-4f6a-ce58-19d30f114f30",
        "colab": {
          "base_uri": "https://localhost:8080/"
        }
      },
      "source": [
        "import numpy as np\n",
        "\n",
        "my_array_one = np.array([[1, 4, 5],[ 8, 79, 6],[ 3, 5, 7]])  \n",
        "my_array_two = np.array([[4, 5, 8],[ 6, 9, 7],[ 4, 5, 6]])  \n",
        "\n",
        "print(my_array_one)\n",
        "print(my_array_two)\n",
        "\n",
        "print()\n",
        "\n",
        "print(\" horizontally stacked :\\n\")\n",
        "print( np.hstack((my_array_one, my_array_two)))\n",
        "print()\n",
        "print(\" vertically stacked :\\n\")\n",
        "print( np.vstack((my_array_one, my_array_two)))\n"
      ],
      "execution_count": 20,
      "outputs": [
        {
          "output_type": "stream",
          "text": [
            "[[ 1  4  5]\n",
            " [ 8 79  6]\n",
            " [ 3  5  7]]\n",
            "[[4 5 8]\n",
            " [6 9 7]\n",
            " [4 5 6]]\n",
            "\n",
            " horizontally stacked :\n",
            "\n",
            "[[ 1  4  5  4  5  8]\n",
            " [ 8 79  6  6  9  7]\n",
            " [ 3  5  7  4  5  6]]\n",
            "\n",
            " vertically stacked :\n",
            "\n",
            "[[ 1  4  5]\n",
            " [ 8 79  6]\n",
            " [ 3  5  7]\n",
            " [ 4  5  8]\n",
            " [ 6  9  7]\n",
            " [ 4  5  6]]\n"
          ],
          "name": "stdout"
        }
      ]
    },
    {
      "cell_type": "markdown",
      "metadata": {
        "id": "FF7w7dhhbGy_"
      },
      "source": [
        "Questions 6:\n",
        "How to get unique items and counts of unique items?"
      ]
    },
    {
      "cell_type": "code",
      "metadata": {
        "id": "xxrwzVliiRXp",
        "outputId": "18e6147b-aa49-4bac-c059-55d952504a4e",
        "colab": {
          "base_uri": "https://localhost:8080/"
        }
      },
      "source": [
        "import numpy as np\n",
        "\n",
        "arr = np.array([4, 7, 8, 9, 5, 6, 5, 4, 4])\n",
        "\n",
        "unique, counts = np.unique(arr, return_counts=True)\n",
        "print(unique, counts)\n",
        "print()\n",
        "arr = np.asarray((unique, counts)).T\n",
        "print(arr)"
      ],
      "execution_count": 25,
      "outputs": [
        {
          "output_type": "stream",
          "text": [
            "[4 5 6 7 8 9] [3 2 1 1 1 1]\n",
            "\n",
            "[[4 3]\n",
            " [5 2]\n",
            " [6 1]\n",
            " [7 1]\n",
            " [8 1]\n",
            " [9 1]]\n"
          ],
          "name": "stdout"
        }
      ]
    },
    {
      "cell_type": "code",
      "metadata": {
        "id": "kPSmiQT9i28U"
      },
      "source": [
        ""
      ],
      "execution_count": null,
      "outputs": []
    }
  ]
}