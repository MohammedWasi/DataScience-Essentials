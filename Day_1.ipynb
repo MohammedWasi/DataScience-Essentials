{
  "nbformat": 4,
  "nbformat_minor": 0,
  "metadata": {
    "colab": {
      "name": "Day 1.ipynb",
      "provenance": [],
      "collapsed_sections": [],
      "authorship_tag": "ABX9TyP/B44bZ8/0yL80r62dOGCx",
      "include_colab_link": true
    },
    "kernelspec": {
      "name": "python3",
      "display_name": "Python 3"
    }
  },
  "cells": [
    {
      "cell_type": "markdown",
      "metadata": {
        "id": "view-in-github",
        "colab_type": "text"
      },
      "source": [
        "<a href=\"https://colab.research.google.com/github/MohammedWasi/DataScience-Essentials/blob/main/Day_1.ipynb\" target=\"_parent\"><img src=\"https://colab.research.google.com/assets/colab-badge.svg\" alt=\"Open In Colab\"/></a>"
      ]
    },
    {
      "cell_type": "markdown",
      "metadata": {
        "id": "glZIsrxa_ndT"
      },
      "source": [
        "Questions 1:\n",
        "Given the following jumbled word, OBANWRI guess the correct English word.\n",
        "A. RANIBOW B. RAINBOW C. BOWRANI D. ROBWANI"
      ]
    },
    {
      "cell_type": "markdown",
      "metadata": {
        "id": "elfNFM9G_1sB"
      },
      "source": [
        "Ans - B. Rainbow"
      ]
    },
    {
      "cell_type": "markdown",
      "metadata": {
        "id": "xfyyGvh9_9Tf"
      },
      "source": [
        "Questions 2:\n",
        "Write a program which prints “LETS UPGRADE”. (Please note that you have to print in ALL CAPS as given)"
      ]
    },
    {
      "cell_type": "code",
      "metadata": {
        "id": "lYGH0MTjAB6c",
        "outputId": "d1c14fad-0699-424f-fedb-dd4ed87b07d2",
        "colab": {
          "base_uri": "https://localhost:8080/"
        }
      },
      "source": [
        "print (\"LETS UPGRADE\")"
      ],
      "execution_count": null,
      "outputs": [
        {
          "output_type": "stream",
          "text": [
            "LETS UPGRADE\n"
          ],
          "name": "stdout"
        }
      ]
    },
    {
      "cell_type": "markdown",
      "metadata": {
        "id": "Ebs6JHS_APoS"
      },
      "source": [
        "Questions 3:\n",
        "Write a program that takes cost price and selling price as input and displays whether the transaction is a Profit or a Loss or Neither.\n",
        "INPUT FORMAT\n",
        "The first line contains the cost price.\n",
        "The second line contains the selling price.\n",
        "OUTPUT FORMAT\n",
        "Print \"Profit\" if the transaction is a profit or \"Loss\" if it is a loss. If it is neither profit nor loss, print \"Neither\". (You must not have quotes in your output)"
      ]
    },
    {
      "cell_type": "code",
      "metadata": {
        "id": "inw1yADgAYJo",
        "outputId": "278c9923-9869-4455-c612-474ba68caf44",
        "colab": {
          "base_uri": "https://localhost:8080/"
        }
      },
      "source": [
        "ct = int(input())\n",
        "st = int(input())\n",
        "if st>ct:\n",
        "  print (\"Profit\")\n",
        "elif st<ct:\n",
        "  print (\"Loss\")\n",
        "else:\n",
        "  print (\"Neither\")\n"
      ],
      "execution_count": null,
      "outputs": [
        {
          "output_type": "stream",
          "text": [
            "23\n",
            "43\n",
            "Profit\n"
          ],
          "name": "stdout"
        }
      ]
    },
    {
      "cell_type": "markdown",
      "metadata": {
        "id": "7Cr5ds3bA-lR"
      },
      "source": [
        "Questions 4:\n",
        "Write a program that takes an amount in Euros as input. You need to find its equivalent in Rupees and display it. Assume 1 Euro equals Rs. 80.\n",
        "Please note that you are expected to stick to the given input and output\n",
        "format as in sample test cases. Please don't add any extra lines such as\n",
        "'Enter a number', etc.\n",
        "Your program should take only one number as input and display the output."
      ]
    },
    {
      "cell_type": "code",
      "metadata": {
        "id": "8PouWVe9BJMC",
        "outputId": "451c1b4f-ab79-4236-e7bf-52056696073e",
        "colab": {
          "base_uri": "https://localhost:8080/"
        }
      },
      "source": [
        "euro = int(input())\n",
        "rupees = euro*80\n",
        "print (rupees)"
      ],
      "execution_count": null,
      "outputs": [
        {
          "output_type": "stream",
          "text": [
            "20\n",
            "1600\n"
          ],
          "name": "stdout"
        }
      ]
    }
  ]
}